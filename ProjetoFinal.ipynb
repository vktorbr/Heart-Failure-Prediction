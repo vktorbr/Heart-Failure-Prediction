{
  "nbformat": 4,
  "nbformat_minor": 0,
  "metadata": {
    "colab": {
      "name": "Copy of decisionTree.ipynb",
      "provenance": [],
      "authorship_tag": "ABX9TyOGWjxkVz19pNB9A+3rmE/w",
      "include_colab_link": true
    },
    "kernelspec": {
      "name": "python3",
      "display_name": "Python 3"
    },
    "language_info": {
      "name": "python"
    }
  },
  "cells": [
    {
      "cell_type": "markdown",
      "metadata": {
        "id": "view-in-github",
        "colab_type": "text"
      },
      "source": [
        "<a href=\"https://colab.research.google.com/github/vktorbr/Heart-Failure-Prediction/blob/main/ProjetoFinal.ipynb\" target=\"_parent\"><img src=\"https://colab.research.google.com/assets/colab-badge.svg\" alt=\"Open In Colab\"/></a>"
      ]
    },
    {
      "cell_type": "code",
      "metadata": {
        "id": "n90k2lKeHr69",
        "colab": {
          "base_uri": "https://localhost:8080/"
        },
        "outputId": "cb9a6bd1-1ca7-4a20-8db9-e8e10d80c15b"
      },
      "source": [
        "!pip install scikit-multilearn --quiet"
      ],
      "execution_count": 13,
      "outputs": [
        {
          "output_type": "stream",
          "text": [
            "\u001b[?25l\r\u001b[K     |███▊                            | 10 kB 16.1 MB/s eta 0:00:01\r\u001b[K     |███████▍                        | 20 kB 19.4 MB/s eta 0:00:01\r\u001b[K     |███████████                     | 30 kB 22.8 MB/s eta 0:00:01\r\u001b[K     |██████████████▊                 | 40 kB 25.3 MB/s eta 0:00:01\r\u001b[K     |██████████████████▍             | 51 kB 28.0 MB/s eta 0:00:01\r\u001b[K     |██████████████████████          | 61 kB 30.4 MB/s eta 0:00:01\r\u001b[K     |█████████████████████████▊      | 71 kB 31.8 MB/s eta 0:00:01\r\u001b[K     |█████████████████████████████▍  | 81 kB 33.6 MB/s eta 0:00:01\r\u001b[K     |████████████████████████████████| 89 kB 5.2 MB/s \n",
            "\u001b[?25h"
          ],
          "name": "stdout"
        }
      ]
    },
    {
      "cell_type": "code",
      "metadata": {
        "colab": {
          "base_uri": "https://localhost:8080/"
        },
        "id": "prqk6_NipFzk",
        "outputId": "a511f1ea-c07c-4b15-8830-77a50bd9fb37"
      },
      "source": [
        "!pip install matplotlib --upgrade --quiet"
      ],
      "execution_count": 14,
      "outputs": [
        {
          "output_type": "stream",
          "text": [
            "\u001b[K     |████████████████████████████████| 10.3 MB 30.0 MB/s \n",
            "\u001b[31mERROR: pip's dependency resolver does not currently take into account all the packages that are installed. This behaviour is the source of the following dependency conflicts.\n",
            "albumentations 0.1.12 requires imgaug<0.2.7,>=0.2.5, but you have imgaug 0.2.9 which is incompatible.\u001b[0m\n",
            "\u001b[?25h"
          ],
          "name": "stdout"
        }
      ]
    },
    {
      "cell_type": "code",
      "metadata": {
        "id": "VNXGdezH2Ots"
      },
      "source": [
        "#importacao de bibliotecas\n",
        "import pandas as pd\n",
        "from sklearn.tree import DecisionTreeClassifier,export_graphviz\n",
        "from sklearn.model_selection import train_test_split\n",
        "from sklearn import metrics\n",
        "import numpy as np\n",
        "import matplotlib.pyplot as plt\n",
        "import warnings\n",
        "warnings.filterwarnings('ignore')\n",
        "\n",
        "#renderizando a arvore de forma interativa\n",
        "from ipywidgets import interactive\n",
        "from IPython.display import SVG,display\n",
        "from graphviz import Source\n",
        "from sklearn.metrics import accuracy_score\n",
        "from sklearn.ensemble import RandomForestClassifier\n",
        "from sklearn.neighbors import KNeighborsClassifier\n",
        "\n",
        "import seaborn as sb\n",
        "from imblearn.over_sampling import SMOTE\n"
      ],
      "execution_count": 1,
      "outputs": []
    },
    {
      "cell_type": "code",
      "metadata": {
        "colab": {
          "base_uri": "https://localhost:8080/",
          "height": 224
        },
        "id": "zQiQ0fO32nNe",
        "outputId": "ffde0f7f-5bbb-4872-ba15-0355a5c61bbd"
      },
      "source": [
        "#carregando dataset\n",
        "df = pd.read_csv('https://raw.githubusercontent.com/vktorbr/Heart-Failure-Prediction/main/heart_failure_clinical_records_dataset.csv')\n",
        "df.head()"
      ],
      "execution_count": 2,
      "outputs": [
        {
          "output_type": "execute_result",
          "data": {
            "text/html": [
              "<div>\n",
              "<style scoped>\n",
              "    .dataframe tbody tr th:only-of-type {\n",
              "        vertical-align: middle;\n",
              "    }\n",
              "\n",
              "    .dataframe tbody tr th {\n",
              "        vertical-align: top;\n",
              "    }\n",
              "\n",
              "    .dataframe thead th {\n",
              "        text-align: right;\n",
              "    }\n",
              "</style>\n",
              "<table border=\"1\" class=\"dataframe\">\n",
              "  <thead>\n",
              "    <tr style=\"text-align: right;\">\n",
              "      <th></th>\n",
              "      <th>age</th>\n",
              "      <th>anaemia</th>\n",
              "      <th>creatinine_phosphokinase</th>\n",
              "      <th>diabetes</th>\n",
              "      <th>ejection_fraction</th>\n",
              "      <th>high_blood_pressure</th>\n",
              "      <th>platelets</th>\n",
              "      <th>serum_creatinine</th>\n",
              "      <th>serum_sodium</th>\n",
              "      <th>sex</th>\n",
              "      <th>smoking</th>\n",
              "      <th>time</th>\n",
              "      <th>DEATH_EVENT</th>\n",
              "    </tr>\n",
              "  </thead>\n",
              "  <tbody>\n",
              "    <tr>\n",
              "      <th>0</th>\n",
              "      <td>75.0</td>\n",
              "      <td>0</td>\n",
              "      <td>582</td>\n",
              "      <td>0</td>\n",
              "      <td>20</td>\n",
              "      <td>1</td>\n",
              "      <td>265000.00</td>\n",
              "      <td>1.9</td>\n",
              "      <td>130</td>\n",
              "      <td>1</td>\n",
              "      <td>0</td>\n",
              "      <td>4</td>\n",
              "      <td>1</td>\n",
              "    </tr>\n",
              "    <tr>\n",
              "      <th>1</th>\n",
              "      <td>55.0</td>\n",
              "      <td>0</td>\n",
              "      <td>7861</td>\n",
              "      <td>0</td>\n",
              "      <td>38</td>\n",
              "      <td>0</td>\n",
              "      <td>263358.03</td>\n",
              "      <td>1.1</td>\n",
              "      <td>136</td>\n",
              "      <td>1</td>\n",
              "      <td>0</td>\n",
              "      <td>6</td>\n",
              "      <td>1</td>\n",
              "    </tr>\n",
              "    <tr>\n",
              "      <th>2</th>\n",
              "      <td>65.0</td>\n",
              "      <td>0</td>\n",
              "      <td>146</td>\n",
              "      <td>0</td>\n",
              "      <td>20</td>\n",
              "      <td>0</td>\n",
              "      <td>162000.00</td>\n",
              "      <td>1.3</td>\n",
              "      <td>129</td>\n",
              "      <td>1</td>\n",
              "      <td>1</td>\n",
              "      <td>7</td>\n",
              "      <td>1</td>\n",
              "    </tr>\n",
              "    <tr>\n",
              "      <th>3</th>\n",
              "      <td>50.0</td>\n",
              "      <td>1</td>\n",
              "      <td>111</td>\n",
              "      <td>0</td>\n",
              "      <td>20</td>\n",
              "      <td>0</td>\n",
              "      <td>210000.00</td>\n",
              "      <td>1.9</td>\n",
              "      <td>137</td>\n",
              "      <td>1</td>\n",
              "      <td>0</td>\n",
              "      <td>7</td>\n",
              "      <td>1</td>\n",
              "    </tr>\n",
              "    <tr>\n",
              "      <th>4</th>\n",
              "      <td>65.0</td>\n",
              "      <td>1</td>\n",
              "      <td>160</td>\n",
              "      <td>1</td>\n",
              "      <td>20</td>\n",
              "      <td>0</td>\n",
              "      <td>327000.00</td>\n",
              "      <td>2.7</td>\n",
              "      <td>116</td>\n",
              "      <td>0</td>\n",
              "      <td>0</td>\n",
              "      <td>8</td>\n",
              "      <td>1</td>\n",
              "    </tr>\n",
              "  </tbody>\n",
              "</table>\n",
              "</div>"
            ],
            "text/plain": [
              "    age  anaemia  creatinine_phosphokinase  ...  smoking  time  DEATH_EVENT\n",
              "0  75.0        0                       582  ...        0     4            1\n",
              "1  55.0        0                      7861  ...        0     6            1\n",
              "2  65.0        0                       146  ...        1     7            1\n",
              "3  50.0        1                       111  ...        0     7            1\n",
              "4  65.0        1                       160  ...        0     8            1\n",
              "\n",
              "[5 rows x 13 columns]"
            ]
          },
          "metadata": {},
          "execution_count": 2
        }
      ]
    },
    {
      "cell_type": "code",
      "metadata": {
        "id": "VR78rbM62_LS",
        "colab": {
          "base_uri": "https://localhost:8080/",
          "height": 317
        },
        "outputId": "08af166b-250a-4603-864e-1764f21a74a1"
      },
      "source": [
        "#informacao estatistica basica do dataset\n",
        "df.describe()"
      ],
      "execution_count": 3,
      "outputs": [
        {
          "output_type": "execute_result",
          "data": {
            "text/html": [
              "<div>\n",
              "<style scoped>\n",
              "    .dataframe tbody tr th:only-of-type {\n",
              "        vertical-align: middle;\n",
              "    }\n",
              "\n",
              "    .dataframe tbody tr th {\n",
              "        vertical-align: top;\n",
              "    }\n",
              "\n",
              "    .dataframe thead th {\n",
              "        text-align: right;\n",
              "    }\n",
              "</style>\n",
              "<table border=\"1\" class=\"dataframe\">\n",
              "  <thead>\n",
              "    <tr style=\"text-align: right;\">\n",
              "      <th></th>\n",
              "      <th>age</th>\n",
              "      <th>anaemia</th>\n",
              "      <th>creatinine_phosphokinase</th>\n",
              "      <th>diabetes</th>\n",
              "      <th>ejection_fraction</th>\n",
              "      <th>high_blood_pressure</th>\n",
              "      <th>platelets</th>\n",
              "      <th>serum_creatinine</th>\n",
              "      <th>serum_sodium</th>\n",
              "      <th>sex</th>\n",
              "      <th>smoking</th>\n",
              "      <th>time</th>\n",
              "      <th>DEATH_EVENT</th>\n",
              "    </tr>\n",
              "  </thead>\n",
              "  <tbody>\n",
              "    <tr>\n",
              "      <th>count</th>\n",
              "      <td>299.000000</td>\n",
              "      <td>299.000000</td>\n",
              "      <td>299.000000</td>\n",
              "      <td>299.000000</td>\n",
              "      <td>299.000000</td>\n",
              "      <td>299.000000</td>\n",
              "      <td>299.000000</td>\n",
              "      <td>299.00000</td>\n",
              "      <td>299.000000</td>\n",
              "      <td>299.000000</td>\n",
              "      <td>299.00000</td>\n",
              "      <td>299.000000</td>\n",
              "      <td>299.00000</td>\n",
              "    </tr>\n",
              "    <tr>\n",
              "      <th>mean</th>\n",
              "      <td>60.833893</td>\n",
              "      <td>0.431438</td>\n",
              "      <td>581.839465</td>\n",
              "      <td>0.418060</td>\n",
              "      <td>38.083612</td>\n",
              "      <td>0.351171</td>\n",
              "      <td>263358.029264</td>\n",
              "      <td>1.39388</td>\n",
              "      <td>136.625418</td>\n",
              "      <td>0.648829</td>\n",
              "      <td>0.32107</td>\n",
              "      <td>130.260870</td>\n",
              "      <td>0.32107</td>\n",
              "    </tr>\n",
              "    <tr>\n",
              "      <th>std</th>\n",
              "      <td>11.894809</td>\n",
              "      <td>0.496107</td>\n",
              "      <td>970.287881</td>\n",
              "      <td>0.494067</td>\n",
              "      <td>11.834841</td>\n",
              "      <td>0.478136</td>\n",
              "      <td>97804.236869</td>\n",
              "      <td>1.03451</td>\n",
              "      <td>4.412477</td>\n",
              "      <td>0.478136</td>\n",
              "      <td>0.46767</td>\n",
              "      <td>77.614208</td>\n",
              "      <td>0.46767</td>\n",
              "    </tr>\n",
              "    <tr>\n",
              "      <th>min</th>\n",
              "      <td>40.000000</td>\n",
              "      <td>0.000000</td>\n",
              "      <td>23.000000</td>\n",
              "      <td>0.000000</td>\n",
              "      <td>14.000000</td>\n",
              "      <td>0.000000</td>\n",
              "      <td>25100.000000</td>\n",
              "      <td>0.50000</td>\n",
              "      <td>113.000000</td>\n",
              "      <td>0.000000</td>\n",
              "      <td>0.00000</td>\n",
              "      <td>4.000000</td>\n",
              "      <td>0.00000</td>\n",
              "    </tr>\n",
              "    <tr>\n",
              "      <th>25%</th>\n",
              "      <td>51.000000</td>\n",
              "      <td>0.000000</td>\n",
              "      <td>116.500000</td>\n",
              "      <td>0.000000</td>\n",
              "      <td>30.000000</td>\n",
              "      <td>0.000000</td>\n",
              "      <td>212500.000000</td>\n",
              "      <td>0.90000</td>\n",
              "      <td>134.000000</td>\n",
              "      <td>0.000000</td>\n",
              "      <td>0.00000</td>\n",
              "      <td>73.000000</td>\n",
              "      <td>0.00000</td>\n",
              "    </tr>\n",
              "    <tr>\n",
              "      <th>50%</th>\n",
              "      <td>60.000000</td>\n",
              "      <td>0.000000</td>\n",
              "      <td>250.000000</td>\n",
              "      <td>0.000000</td>\n",
              "      <td>38.000000</td>\n",
              "      <td>0.000000</td>\n",
              "      <td>262000.000000</td>\n",
              "      <td>1.10000</td>\n",
              "      <td>137.000000</td>\n",
              "      <td>1.000000</td>\n",
              "      <td>0.00000</td>\n",
              "      <td>115.000000</td>\n",
              "      <td>0.00000</td>\n",
              "    </tr>\n",
              "    <tr>\n",
              "      <th>75%</th>\n",
              "      <td>70.000000</td>\n",
              "      <td>1.000000</td>\n",
              "      <td>582.000000</td>\n",
              "      <td>1.000000</td>\n",
              "      <td>45.000000</td>\n",
              "      <td>1.000000</td>\n",
              "      <td>303500.000000</td>\n",
              "      <td>1.40000</td>\n",
              "      <td>140.000000</td>\n",
              "      <td>1.000000</td>\n",
              "      <td>1.00000</td>\n",
              "      <td>203.000000</td>\n",
              "      <td>1.00000</td>\n",
              "    </tr>\n",
              "    <tr>\n",
              "      <th>max</th>\n",
              "      <td>95.000000</td>\n",
              "      <td>1.000000</td>\n",
              "      <td>7861.000000</td>\n",
              "      <td>1.000000</td>\n",
              "      <td>80.000000</td>\n",
              "      <td>1.000000</td>\n",
              "      <td>850000.000000</td>\n",
              "      <td>9.40000</td>\n",
              "      <td>148.000000</td>\n",
              "      <td>1.000000</td>\n",
              "      <td>1.00000</td>\n",
              "      <td>285.000000</td>\n",
              "      <td>1.00000</td>\n",
              "    </tr>\n",
              "  </tbody>\n",
              "</table>\n",
              "</div>"
            ],
            "text/plain": [
              "              age     anaemia  ...        time  DEATH_EVENT\n",
              "count  299.000000  299.000000  ...  299.000000    299.00000\n",
              "mean    60.833893    0.431438  ...  130.260870      0.32107\n",
              "std     11.894809    0.496107  ...   77.614208      0.46767\n",
              "min     40.000000    0.000000  ...    4.000000      0.00000\n",
              "25%     51.000000    0.000000  ...   73.000000      0.00000\n",
              "50%     60.000000    0.000000  ...  115.000000      0.00000\n",
              "75%     70.000000    1.000000  ...  203.000000      1.00000\n",
              "max     95.000000    1.000000  ...  285.000000      1.00000\n",
              "\n",
              "[8 rows x 13 columns]"
            ]
          },
          "metadata": {},
          "execution_count": 3
        }
      ]
    },
    {
      "cell_type": "code",
      "metadata": {
        "id": "QphSmulq3PBw",
        "colab": {
          "base_uri": "https://localhost:8080/"
        },
        "outputId": "3081d012-6a3b-416b-fd7b-4ad61e4bf7cf"
      },
      "source": [
        "#informacoes sobre o dataset\n",
        "df.info()"
      ],
      "execution_count": 4,
      "outputs": [
        {
          "output_type": "stream",
          "text": [
            "<class 'pandas.core.frame.DataFrame'>\n",
            "RangeIndex: 299 entries, 0 to 298\n",
            "Data columns (total 13 columns):\n",
            " #   Column                    Non-Null Count  Dtype  \n",
            "---  ------                    --------------  -----  \n",
            " 0   age                       299 non-null    float64\n",
            " 1   anaemia                   299 non-null    int64  \n",
            " 2   creatinine_phosphokinase  299 non-null    int64  \n",
            " 3   diabetes                  299 non-null    int64  \n",
            " 4   ejection_fraction         299 non-null    int64  \n",
            " 5   high_blood_pressure       299 non-null    int64  \n",
            " 6   platelets                 299 non-null    float64\n",
            " 7   serum_creatinine          299 non-null    float64\n",
            " 8   serum_sodium              299 non-null    int64  \n",
            " 9   sex                       299 non-null    int64  \n",
            " 10  smoking                   299 non-null    int64  \n",
            " 11  time                      299 non-null    int64  \n",
            " 12  DEATH_EVENT               299 non-null    int64  \n",
            "dtypes: float64(3), int64(10)\n",
            "memory usage: 30.5 KB\n"
          ],
          "name": "stdout"
        }
      ]
    },
    {
      "cell_type": "code",
      "metadata": {
        "colab": {
          "base_uri": "https://localhost:8080/"
        },
        "id": "VOn2236QGrTg",
        "outputId": "fa2310af-9698-44fd-b463-488ea462a88a"
      },
      "source": [
        "y = df['DEATH_EVENT']\n",
        "y"
      ],
      "execution_count": 5,
      "outputs": [
        {
          "output_type": "execute_result",
          "data": {
            "text/plain": [
              "0      1\n",
              "1      1\n",
              "2      1\n",
              "3      1\n",
              "4      1\n",
              "      ..\n",
              "294    0\n",
              "295    0\n",
              "296    0\n",
              "297    0\n",
              "298    0\n",
              "Name: DEATH_EVENT, Length: 299, dtype: int64"
            ]
          },
          "metadata": {},
          "execution_count": 5
        }
      ]
    },
    {
      "cell_type": "code",
      "metadata": {
        "colab": {
          "base_uri": "https://localhost:8080/",
          "height": 419
        },
        "id": "8OuDsjEPJeix",
        "outputId": "3e4786b9-b77b-4295-c8ff-5ce6eb9ddb36"
      },
      "source": [
        "X = df.drop('DEATH_EVENT', axis=1)\n",
        "X"
      ],
      "execution_count": 6,
      "outputs": [
        {
          "output_type": "execute_result",
          "data": {
            "text/html": [
              "<div>\n",
              "<style scoped>\n",
              "    .dataframe tbody tr th:only-of-type {\n",
              "        vertical-align: middle;\n",
              "    }\n",
              "\n",
              "    .dataframe tbody tr th {\n",
              "        vertical-align: top;\n",
              "    }\n",
              "\n",
              "    .dataframe thead th {\n",
              "        text-align: right;\n",
              "    }\n",
              "</style>\n",
              "<table border=\"1\" class=\"dataframe\">\n",
              "  <thead>\n",
              "    <tr style=\"text-align: right;\">\n",
              "      <th></th>\n",
              "      <th>age</th>\n",
              "      <th>anaemia</th>\n",
              "      <th>creatinine_phosphokinase</th>\n",
              "      <th>diabetes</th>\n",
              "      <th>ejection_fraction</th>\n",
              "      <th>high_blood_pressure</th>\n",
              "      <th>platelets</th>\n",
              "      <th>serum_creatinine</th>\n",
              "      <th>serum_sodium</th>\n",
              "      <th>sex</th>\n",
              "      <th>smoking</th>\n",
              "      <th>time</th>\n",
              "    </tr>\n",
              "  </thead>\n",
              "  <tbody>\n",
              "    <tr>\n",
              "      <th>0</th>\n",
              "      <td>75.0</td>\n",
              "      <td>0</td>\n",
              "      <td>582</td>\n",
              "      <td>0</td>\n",
              "      <td>20</td>\n",
              "      <td>1</td>\n",
              "      <td>265000.00</td>\n",
              "      <td>1.9</td>\n",
              "      <td>130</td>\n",
              "      <td>1</td>\n",
              "      <td>0</td>\n",
              "      <td>4</td>\n",
              "    </tr>\n",
              "    <tr>\n",
              "      <th>1</th>\n",
              "      <td>55.0</td>\n",
              "      <td>0</td>\n",
              "      <td>7861</td>\n",
              "      <td>0</td>\n",
              "      <td>38</td>\n",
              "      <td>0</td>\n",
              "      <td>263358.03</td>\n",
              "      <td>1.1</td>\n",
              "      <td>136</td>\n",
              "      <td>1</td>\n",
              "      <td>0</td>\n",
              "      <td>6</td>\n",
              "    </tr>\n",
              "    <tr>\n",
              "      <th>2</th>\n",
              "      <td>65.0</td>\n",
              "      <td>0</td>\n",
              "      <td>146</td>\n",
              "      <td>0</td>\n",
              "      <td>20</td>\n",
              "      <td>0</td>\n",
              "      <td>162000.00</td>\n",
              "      <td>1.3</td>\n",
              "      <td>129</td>\n",
              "      <td>1</td>\n",
              "      <td>1</td>\n",
              "      <td>7</td>\n",
              "    </tr>\n",
              "    <tr>\n",
              "      <th>3</th>\n",
              "      <td>50.0</td>\n",
              "      <td>1</td>\n",
              "      <td>111</td>\n",
              "      <td>0</td>\n",
              "      <td>20</td>\n",
              "      <td>0</td>\n",
              "      <td>210000.00</td>\n",
              "      <td>1.9</td>\n",
              "      <td>137</td>\n",
              "      <td>1</td>\n",
              "      <td>0</td>\n",
              "      <td>7</td>\n",
              "    </tr>\n",
              "    <tr>\n",
              "      <th>4</th>\n",
              "      <td>65.0</td>\n",
              "      <td>1</td>\n",
              "      <td>160</td>\n",
              "      <td>1</td>\n",
              "      <td>20</td>\n",
              "      <td>0</td>\n",
              "      <td>327000.00</td>\n",
              "      <td>2.7</td>\n",
              "      <td>116</td>\n",
              "      <td>0</td>\n",
              "      <td>0</td>\n",
              "      <td>8</td>\n",
              "    </tr>\n",
              "    <tr>\n",
              "      <th>...</th>\n",
              "      <td>...</td>\n",
              "      <td>...</td>\n",
              "      <td>...</td>\n",
              "      <td>...</td>\n",
              "      <td>...</td>\n",
              "      <td>...</td>\n",
              "      <td>...</td>\n",
              "      <td>...</td>\n",
              "      <td>...</td>\n",
              "      <td>...</td>\n",
              "      <td>...</td>\n",
              "      <td>...</td>\n",
              "    </tr>\n",
              "    <tr>\n",
              "      <th>294</th>\n",
              "      <td>62.0</td>\n",
              "      <td>0</td>\n",
              "      <td>61</td>\n",
              "      <td>1</td>\n",
              "      <td>38</td>\n",
              "      <td>1</td>\n",
              "      <td>155000.00</td>\n",
              "      <td>1.1</td>\n",
              "      <td>143</td>\n",
              "      <td>1</td>\n",
              "      <td>1</td>\n",
              "      <td>270</td>\n",
              "    </tr>\n",
              "    <tr>\n",
              "      <th>295</th>\n",
              "      <td>55.0</td>\n",
              "      <td>0</td>\n",
              "      <td>1820</td>\n",
              "      <td>0</td>\n",
              "      <td>38</td>\n",
              "      <td>0</td>\n",
              "      <td>270000.00</td>\n",
              "      <td>1.2</td>\n",
              "      <td>139</td>\n",
              "      <td>0</td>\n",
              "      <td>0</td>\n",
              "      <td>271</td>\n",
              "    </tr>\n",
              "    <tr>\n",
              "      <th>296</th>\n",
              "      <td>45.0</td>\n",
              "      <td>0</td>\n",
              "      <td>2060</td>\n",
              "      <td>1</td>\n",
              "      <td>60</td>\n",
              "      <td>0</td>\n",
              "      <td>742000.00</td>\n",
              "      <td>0.8</td>\n",
              "      <td>138</td>\n",
              "      <td>0</td>\n",
              "      <td>0</td>\n",
              "      <td>278</td>\n",
              "    </tr>\n",
              "    <tr>\n",
              "      <th>297</th>\n",
              "      <td>45.0</td>\n",
              "      <td>0</td>\n",
              "      <td>2413</td>\n",
              "      <td>0</td>\n",
              "      <td>38</td>\n",
              "      <td>0</td>\n",
              "      <td>140000.00</td>\n",
              "      <td>1.4</td>\n",
              "      <td>140</td>\n",
              "      <td>1</td>\n",
              "      <td>1</td>\n",
              "      <td>280</td>\n",
              "    </tr>\n",
              "    <tr>\n",
              "      <th>298</th>\n",
              "      <td>50.0</td>\n",
              "      <td>0</td>\n",
              "      <td>196</td>\n",
              "      <td>0</td>\n",
              "      <td>45</td>\n",
              "      <td>0</td>\n",
              "      <td>395000.00</td>\n",
              "      <td>1.6</td>\n",
              "      <td>136</td>\n",
              "      <td>1</td>\n",
              "      <td>1</td>\n",
              "      <td>285</td>\n",
              "    </tr>\n",
              "  </tbody>\n",
              "</table>\n",
              "<p>299 rows × 12 columns</p>\n",
              "</div>"
            ],
            "text/plain": [
              "      age  anaemia  creatinine_phosphokinase  ...  sex  smoking  time\n",
              "0    75.0        0                       582  ...    1        0     4\n",
              "1    55.0        0                      7861  ...    1        0     6\n",
              "2    65.0        0                       146  ...    1        1     7\n",
              "3    50.0        1                       111  ...    1        0     7\n",
              "4    65.0        1                       160  ...    0        0     8\n",
              "..    ...      ...                       ...  ...  ...      ...   ...\n",
              "294  62.0        0                        61  ...    1        1   270\n",
              "295  55.0        0                      1820  ...    0        0   271\n",
              "296  45.0        0                      2060  ...    0        0   278\n",
              "297  45.0        0                      2413  ...    1        1   280\n",
              "298  50.0        0                       196  ...    1        1   285\n",
              "\n",
              "[299 rows x 12 columns]"
            ]
          },
          "metadata": {},
          "execution_count": 6
        }
      ]
    },
    {
      "cell_type": "code",
      "metadata": {
        "id": "Ae21sc3bbxFl",
        "outputId": "e28f63e3-b075-4afe-8243-d35bfac007ba",
        "colab": {
          "base_uri": "https://localhost:8080/",
          "height": 295
        }
      },
      "source": [
        "sb.countplot(y)\n",
        "plt.xlabel('Classe')\n",
        "plt.ylabel('Número de instâncias')\n",
        "plt.title('Número de instâncias em cada classe')\n",
        "plt.show()"
      ],
      "execution_count": 7,
      "outputs": [
        {
          "output_type": "display_data",
          "data": {
            "image/png": "[encoded data removed]",
            "text/plain": [
              "<Figure size 432x288 with 1 Axes>"
            ]
          },
          "metadata": {
            "needs_background": "light"
          }
        }
      ]
    },
    {
      "cell_type": "code",
      "metadata": {
        "id": "OJlA2guWb439"
      },
      "source": [
        "smt = SMOTE()\n",
        "X, y = smt.fit_sample(X, y)"
      ],
      "execution_count": 8,
      "outputs": []
    },
    {
      "cell_type": "code",
      "metadata": {
        "id": "7MAbEAFPb6_n",
        "outputId": "1d164bec-6b69-4ec1-b392-6a7f466c822f",
        "colab": {
          "base_uri": "https://localhost:8080/",
          "height": 295
        }
      },
      "source": [
        "sb.countplot(y)\n",
        "plt.xlabel('Classe')\n",
        "plt.ylabel('Número de instâncias')\n",
        "plt.title('Número de instâncias em cada classe')\n",
        "plt.show()"
      ],
      "execution_count": 9,
      "outputs": [
        {
          "output_type": "display_data",
          "data": {
            "image/png": "[encoded data removed]",
            "text/plain": [
              "<Figure size 432x288 with 1 Axes>"
            ]
          },
          "metadata": {
            "needs_background": "light"
          }
        }
      ]
    },
    {
      "cell_type": "code",
      "metadata": {
        "id": "vUCi6mbUJ2gx"
      },
      "source": [
        "np.random.seed(42)\n",
        "X_train, X_test, y_train, y_test = train_test_split(X, y, test_size=0.2, stratify=y)"
      ],
      "execution_count": 10,
      "outputs": []
    },
    {
      "cell_type": "code",
      "metadata": {
        "colab": {
          "base_uri": "https://localhost:8080/"
        },
        "id": "SDlJwHwdXR0N",
        "outputId": "a2c30170-b2cd-4621-b306-45e9b77d3dd1"
      },
      "source": [
        "(X_train.shape, y_train.shape), (X_test.shape, y_test.shape)"
      ],
      "execution_count": 11,
      "outputs": [
        {
          "output_type": "execute_result",
          "data": {
            "text/plain": [
              "(((324, 12), (324,)), ((82, 12), (82,)))"
            ]
          },
          "metadata": {},
          "execution_count": 11
        }
      ]
    },
    {
      "cell_type": "code",
      "metadata": {
        "colab": {
          "base_uri": "https://localhost:8080/",
          "height": 297
        },
        "id": "wOdtzNjIiS-Q",
        "outputId": "2bf462d4-34f2-4c66-c838-f0a86974883e"
      },
      "source": [
        "\n",
        "labels = [\"Sobreviveu [0]\", \"Faleceu [1]\"]\n",
        "\n",
        "qt_y = np.unique(y, return_counts=True)[1]\n",
        "qt_y_train = np.unique(y_train, return_counts=True)[1]\n",
        "qt_y_test = np.unique(y_test, return_counts=True)[1]\n",
        "\n",
        "x_bar = np.arange(len(labels))\n",
        "width = 0.35\n",
        "\n",
        "fig, ax = plt.subplots()\n",
        "\n",
        "rects1 = ax.bar(x_bar - width/3, qt_y, width, label='dataset')\n",
        "rects2 = ax.bar(x_bar + width/3, qt_y_train, width, label='train')\n",
        "rects3 = ax.bar(x_bar + 2 * (width/3), qt_y_test, width, label='test')\n",
        "\n",
        "ax.set_ylabel('Quantidade')\n",
        "ax.set_title('Contagem da quantidade de cada classe')\n",
        "ax.set_xticks(x_bar)\n",
        "ax.set_xticklabels(labels)\n",
        "ax.legend()\n",
        "\n",
        "ax.bar_label(rects1, padding=3)\n",
        "ax.bar_label(rects2, padding=3)\n",
        "ax.bar_label(rects3, padding=3)\n",
        "\n",
        "fig.tight_layout()\n",
        "\n",
        "plt.show()"
      ],
      "execution_count": 12,
      "outputs": [
        {
          "output_type": "display_data",
          "data": {
            "image/png": "[encoded data removed]",
            "text/plain": [
              "<Figure size 432x288 with 1 Axes>"
            ]
          },
          "metadata": {
            "needs_background": "light"
          }
        }
      ]
    },
    {
      "cell_type": "markdown",
      "metadata": {
        "id": "VZSr6TAX263V"
      },
      "source": [
        "Proporção mantida após a estratificação do dataset em treinamento e teste"
      ]
    },
    {
      "cell_type": "code",
      "metadata": {
        "colab": {
          "base_uri": "https://localhost:8080/",
          "height": 142
        },
        "id": "e9q6cpqMvNno",
        "outputId": "5ff865b8-d05e-451c-cfed-c3b852cc1c08"
      },
      "source": [
        "total_data = sum(qt_y)\n",
        "total_train = sum(qt_y_train)\n",
        "total_test = sum(qt_y_test)\n",
        "\n",
        "prop_data_sobreviveu = qt_y[0] / total_data\n",
        "prop_data_faleceu = qt_y[1] / total_data\n",
        "\n",
        "prop_train_sobreviveu = qt_y_train[0] / total_train\n",
        "prop_train_faleceu = qt_y_train[1] / total_train\n",
        "\n",
        "prop_test_sobreviveu = qt_y_test[0] / total_test\n",
        "prop_test_faleceu = qt_y_test[1] / total_test\n",
        "\n",
        "data = {\n",
        "    'Sobreviveu [0]': [prop_data_sobreviveu, prop_train_sobreviveu, prop_test_sobreviveu],\n",
        "    'Faleceu [1]': [prop_data_faleceu, prop_train_faleceu, prop_test_faleceu]\n",
        "}\n",
        "\n",
        "df_prop = pd.DataFrame(data, index=['dataset', 'train_set', 'test_set'])\n",
        "\n",
        "df_prop"
      ],
      "execution_count": 13,
      "outputs": [
        {
          "output_type": "execute_result",
          "data": {
            "text/html": [
              "<div>\n",
              "<style scoped>\n",
              "    .dataframe tbody tr th:only-of-type {\n",
              "        vertical-align: middle;\n",
              "    }\n",
              "\n",
              "    .dataframe tbody tr th {\n",
              "        vertical-align: top;\n",
              "    }\n",
              "\n",
              "    .dataframe thead th {\n",
              "        text-align: right;\n",
              "    }\n",
              "</style>\n",
              "<table border=\"1\" class=\"dataframe\">\n",
              "  <thead>\n",
              "    <tr style=\"text-align: right;\">\n",
              "      <th></th>\n",
              "      <th>Sobreviveu [0]</th>\n",
              "      <th>Faleceu [1]</th>\n",
              "    </tr>\n",
              "  </thead>\n",
              "  <tbody>\n",
              "    <tr>\n",
              "      <th>dataset</th>\n",
              "      <td>0.5</td>\n",
              "      <td>0.5</td>\n",
              "    </tr>\n",
              "    <tr>\n",
              "      <th>train_set</th>\n",
              "      <td>0.5</td>\n",
              "      <td>0.5</td>\n",
              "    </tr>\n",
              "    <tr>\n",
              "      <th>test_set</th>\n",
              "      <td>0.5</td>\n",
              "      <td>0.5</td>\n",
              "    </tr>\n",
              "  </tbody>\n",
              "</table>\n",
              "</div>"
            ],
            "text/plain": [
              "           Sobreviveu [0]  Faleceu [1]\n",
              "dataset               0.5          0.5\n",
              "train_set             0.5          0.5\n",
              "test_set              0.5          0.5"
            ]
          },
          "metadata": {},
          "execution_count": 13
        }
      ]
    },
    {
      "cell_type": "markdown",
      "metadata": {
        "id": "kudj75Gf4nPc"
      },
      "source": [
        "## Árvore de Decisão"
      ]
    },
    {
      "cell_type": "code",
      "metadata": {
        "colab": {
          "base_uri": "https://localhost:8080/"
        },
        "id": "z6ahbPaIJtCV",
        "outputId": "41d3d8ee-d487-42ac-a268-231dd50ad745"
      },
      "source": [
        "#class label\n",
        "class_label = ['Sobreviveu [0]', 'Faleceu [1]']\n",
        "\n",
        "def plot_tree(crit, split, depth, min_samples_split, min_samples_leaf):\n",
        "  estimator = DecisionTreeClassifier(\n",
        "      random_state = 1,\n",
        "      criterion = crit,\n",
        "      splitter = split,\n",
        "      max_depth = depth,\n",
        "      min_samples_split = min_samples_split,\n",
        "      min_samples_leaf = min_samples_leaf\n",
        "  )\n",
        "\n",
        "  #treinamento\n",
        "  estimator.fit(X_train, y_train)\n",
        "\n",
        "  resultado_train = estimator.predict(X_train)\n",
        "\n",
        "  metrics_train = metrics.classification_report(y_train, resultado_train)\n",
        "\n",
        "  \n",
        "  #infos\n",
        "  infos = ('Criterio:', crit, ' | ', 'Splitter:', split, ' | ', 'Max_depth:', depth, ' | ', 'min_samples_split:', min_samples_split, ' | ', 'min_samples_leaf:', min_samples_leaf)\n",
        "\n",
        "  #teste\n",
        "  resultado = estimator.predict(X_test)\n",
        "  metricas = metrics.classification_report(y_test, resultado)\n",
        "\n",
        "  return [accuracy_score(y_test, resultado), metricas, infos, metrics_train]\n",
        "\n",
        "crits = ['entropy', 'gini']\n",
        "splits = ['best', 'random']\n",
        "depths = [None,1,2,3,4,5,10]\n",
        "msps = [2,3,4,5]\n",
        "msls = [1,2,3,4,5]\n",
        "\n",
        "best = [0]\n",
        "worst = [1]\n",
        "\n",
        "for crit in crits:\n",
        "  for split in splits:\n",
        "    for depth in depths:\n",
        "      for msp in msps:\n",
        "        for msl in msls:\n",
        "          result = plot_tree(crit, split, depth, msp, msl)\n",
        "          if (result[0] > best[0]):\n",
        "            best = result\n",
        "\n",
        "          if (result[0] < worst[0]):\n",
        "            worst = result\n",
        "\n",
        "print(\"Melhor Árvore de Decisão\")\n",
        "print(best[2])\n",
        "print(\"Metricas no Treinamento\")\n",
        "print(best[3])\n",
        "print(\"Metricas no Teste\")\n",
        "print(best[1])\n",
        "\n",
        "print(\"Pior Árvore de Decisão\")\n",
        "print(worst[2])\n",
        "print(\"Metricas no Treinamento\")\n",
        "print(best[3])\n",
        "print(\"Metricas no Teste\")\n",
        "print(worst[1])"
      ],
      "execution_count": 18,
      "outputs": [
        {
          "output_type": "stream",
          "text": [
            "Melhor Árvore de Decisão\n",
            "('Criterio:', 'gini', ' | ', 'Splitter:', 'random', ' | ', 'Max_depth:', None, ' | ', 'min_samples_split:', 4, ' | ', 'min_samples_leaf:', 1)\n",
            "Metricas no Treinamento\n",
            "              precision    recall  f1-score   support\n",
            "\n",
            "           0       0.96      0.98      0.97       162\n",
            "           1       0.98      0.96      0.97       162\n",
            "\n",
            "    accuracy                           0.97       324\n",
            "   macro avg       0.97      0.97      0.97       324\n",
            "weighted avg       0.97      0.97      0.97       324\n",
            "\n",
            "Metricas no Teste\n",
            "              precision    recall  f1-score   support\n",
            "\n",
            "           0       0.88      0.90      0.89        41\n",
            "           1       0.90      0.88      0.89        41\n",
            "\n",
            "    accuracy                           0.89        82\n",
            "   macro avg       0.89      0.89      0.89        82\n",
            "weighted avg       0.89      0.89      0.89        82\n",
            "\n",
            "Pior Árvore de Decisão\n",
            "('Criterio:', 'entropy', ' | ', 'Splitter:', 'random', ' | ', 'Max_depth:', 5, ' | ', 'min_samples_split:', 2, ' | ', 'min_samples_leaf:', 1)\n",
            "Metricas no Treinamento\n",
            "              precision    recall  f1-score   support\n",
            "\n",
            "           0       0.96      0.98      0.97       162\n",
            "           1       0.98      0.96      0.97       162\n",
            "\n",
            "    accuracy                           0.97       324\n",
            "   macro avg       0.97      0.97      0.97       324\n",
            "weighted avg       0.97      0.97      0.97       324\n",
            "\n",
            "Metricas no Teste\n",
            "              precision    recall  f1-score   support\n",
            "\n",
            "           0       0.72      0.63      0.68        41\n",
            "           1       0.67      0.76      0.71        41\n",
            "\n",
            "    accuracy                           0.70        82\n",
            "   macro avg       0.70      0.70      0.69        82\n",
            "weighted avg       0.70      0.70      0.69        82\n",
            "\n"
          ],
          "name": "stdout"
        }
      ]
    },
    {
      "cell_type": "markdown",
      "metadata": {
        "id": "Fr9ueuIH6-pN"
      },
      "source": [
        "## KNN"
      ]
    },
    {
      "cell_type": "code",
      "metadata": {
        "colab": {
          "base_uri": "https://localhost:8080/"
        },
        "id": "j1Cu6PWy7Q5S",
        "outputId": "f7c1e4e0-4556-40a2-b915-9aa95c7bf624"
      },
      "source": [
        "#class label\n",
        "class_label = ['Sobreviveu [0]', 'Faleceu [1]']\n",
        "\n",
        "def model(n_neighbor, weight, algorithm, leaf_size, p):\n",
        "  estimator = KNeighborsClassifier(\n",
        "      n_neighbors = n_neighbor,\n",
        "      weights = weight,\n",
        "      algorithm = algorithm,\n",
        "      leaf_size = leaf_size,\n",
        "      p = p\n",
        "  )\n",
        "\n",
        "  #treinamento\n",
        "  estimator.fit(X_train, y_train)\n",
        "\n",
        "  resultado_train = estimator.predict(X_train)\n",
        "\n",
        "  metrics_train = metrics.classification_report(y_train, resultado_train)\n",
        "\n",
        "  #infos\n",
        "  infos = ('N_neighbors:', n_neighbor, ' | ', 'Weights:', weight, ' | ', 'Algorithm:', algorithm, ' | ', 'Leaf_size:', leaf_size, ' | ', 'p:', p)\n",
        "\n",
        "  #teste\n",
        "  resultado = estimator.predict(X_test)\n",
        "  metricas = metrics.classification_report(y_test, resultado)\n",
        "\n",
        "  return [accuracy_score(y_test, resultado), metricas, infos, metrics_train]\n",
        "\n",
        "n_neighbors = [1,2,3,4,5,6,7,8]\n",
        "weights = ['uniform', 'distance']\n",
        "algorithms = ['auto', 'ball_tree', 'kd_tree', 'brute']\n",
        "leaf_sizes = [5, 10, 20, 30, 50]\n",
        "ps = [1, 2]\n",
        "\n",
        "\n",
        "best = [0]\n",
        "worst = [1]\n",
        "\n",
        "for n_neighbor in n_neighbors:\n",
        "  for weight in weights:\n",
        "    for algorithm in algorithms:\n",
        "      for leaf_size in leaf_sizes:\n",
        "        for p in ps:\n",
        "          result = model(n_neighbor, weight, algorithm, leaf_size, p)\n",
        "          if (result[0] > best[0]):\n",
        "            best = result\n",
        "\n",
        "          if (result[0] < worst[0]):\n",
        "            worst = result\n",
        "\n",
        "print(\"Melhor KNN\")\n",
        "print(best[2])\n",
        "print(\"Metricas no Treinamento\")\n",
        "print(best[3])\n",
        "print(\"Metricas no Teste\")\n",
        "print(best[1])\n",
        "\n",
        "print(\"Pior KNN\")\n",
        "print(worst[2])\n",
        "print(\"Metricas no Treinamento\")\n",
        "print(best[3])\n",
        "print(\"Metricas no Teste\")\n",
        "print(worst[1])"
      ],
      "execution_count": 19,
      "outputs": [
        {
          "output_type": "stream",
          "text": [
            "Melhor KNN\n",
            "('N_neighbors:', 6, ' | ', 'Weights:', 'uniform', ' | ', 'Algorithm:', 'auto', ' | ', 'Leaf_size:', 5, ' | ', 'p:', 1)\n",
            "Metricas no Treinamento\n",
            "              precision    recall  f1-score   support\n",
            "\n",
            "           0       0.66      0.78      0.72       162\n",
            "           1       0.74      0.60      0.66       162\n",
            "\n",
            "    accuracy                           0.69       324\n",
            "   macro avg       0.70      0.69      0.69       324\n",
            "weighted avg       0.70      0.69      0.69       324\n",
            "\n",
            "Metricas no Teste\n",
            "              precision    recall  f1-score   support\n",
            "\n",
            "           0       0.67      0.71      0.69        41\n",
            "           1       0.69      0.66      0.68        41\n",
            "\n",
            "    accuracy                           0.68        82\n",
            "   macro avg       0.68      0.68      0.68        82\n",
            "weighted avg       0.68      0.68      0.68        82\n",
            "\n",
            "Pior KNN\n",
            "('N_neighbors:', 4, ' | ', 'Weights:', 'uniform', ' | ', 'Algorithm:', 'auto', ' | ', 'Leaf_size:', 5, ' | ', 'p:', 1)\n",
            "Metricas no Treinamento\n",
            "              precision    recall  f1-score   support\n",
            "\n",
            "           0       0.66      0.78      0.72       162\n",
            "           1       0.74      0.60      0.66       162\n",
            "\n",
            "    accuracy                           0.69       324\n",
            "   macro avg       0.70      0.69      0.69       324\n",
            "weighted avg       0.70      0.69      0.69       324\n",
            "\n",
            "Metricas no Teste\n",
            "              precision    recall  f1-score   support\n",
            "\n",
            "           0       0.54      0.71      0.61        41\n",
            "           1       0.57      0.39      0.46        41\n",
            "\n",
            "    accuracy                           0.55        82\n",
            "   macro avg       0.55      0.55      0.54        82\n",
            "weighted avg       0.55      0.55      0.54        82\n",
            "\n"
          ],
          "name": "stdout"
        }
      ]
    },
    {
      "cell_type": "markdown",
      "metadata": {
        "id": "1BvUxh347Mqj"
      },
      "source": [
        "## Random Forest"
      ]
    },
    {
      "cell_type": "code",
      "metadata": {
        "colab": {
          "base_uri": "https://localhost:8080/"
        },
        "id": "1h7X6Dtj7yHl",
        "outputId": "c05f0a5a-1362-4ffb-9a25-6007ad90bbb3"
      },
      "source": [
        "#class label\n",
        "class_label = ['Sobreviveu [0]', 'Faleceu [1]']\n",
        "\n",
        "def plot_tree(crit, n_estimator, depth, min_samples_split, min_samples_leaf):\n",
        "  estimator = RandomForestClassifier(\n",
        "      random_state = 1,\n",
        "      criterion = crit,\n",
        "      n_estimators = n_estimator,\n",
        "      max_depth = depth,\n",
        "      min_samples_split = min_samples_split,\n",
        "      min_samples_leaf = min_samples_leaf\n",
        "  )\n",
        "\n",
        "  #treinamento\n",
        "  estimator.fit(X_train, y_train)\n",
        "\n",
        "  resultado_train = estimator.predict(X_train)\n",
        "\n",
        "  metrics_train = metrics.classification_report(y_train, resultado_train)\n",
        "\n",
        "  #infos\n",
        "  infos = ('Criterio:', crit, ' | ', 'N_estimator:', n_estimator, ' | ', 'Max_depth:', depth, ' | ', 'min_samples_split:', min_samples_split, ' | ', 'min_samples_leaf:', min_samples_leaf)\n",
        "\n",
        "  #teste\n",
        "  resultado = estimator.predict(X_test)\n",
        "  metricas = metrics.classification_report(y_test, resultado)\n",
        "\n",
        "  return [accuracy_score(y_test, resultado), metricas, infos, metrics_train]\n",
        "\n",
        "n_estimators = [25, 50, 75, 100, 125, 150, 200]\n",
        "crits = ['entropy', 'gini']\n",
        "depths = [None,1,2,3,4,5,10]\n",
        "msps = [2,3,4,5]\n",
        "msls = [1,2,3,4,5]\n",
        "\n",
        "\n",
        "best = [0]\n",
        "worst = [1]\n",
        "\n",
        "for crit in crits:\n",
        "  for n_estimator in n_estimators:\n",
        "    for depth in depths:\n",
        "      for msp in msps:\n",
        "        for msl in msls:\n",
        "          result = plot_tree(crit, n_estimator, depth, msp, msl)\n",
        "          if (result[0] > best[0]):\n",
        "            best = result\n",
        "\n",
        "          if (result[0] < worst[0]):\n",
        "            worst = result\n",
        "\n",
        "print(\"Melhor Random Forest\")\n",
        "print(best[2])\n",
        "print(\"Metricas no Treinamento\")\n",
        "print(best[3])\n",
        "print(\"Metricas no Teste\")\n",
        "print(best[1])\n",
        "\n",
        "print(\"Pior Random Forest\")\n",
        "print(worst[2])\n",
        "print(\"Metricas no Treinamento\")\n",
        "print(best[3])\n",
        "print(\"Metricas no Teste\")\n",
        "print(worst[1])"
      ],
      "execution_count": 20,
      "outputs": [
        {
          "output_type": "stream",
          "text": [
            "Melhor Random Forest\n",
            "('Criterio:', 'entropy', ' | ', 'N_estimator:', 150, ' | ', 'Max_depth:', None, ' | ', 'min_samples_split:', 2, ' | ', 'min_samples_leaf:', 1)\n",
            "Metricas no Treinamento\n",
            "              precision    recall  f1-score   support\n",
            "\n",
            "           0       1.00      1.00      1.00       162\n",
            "           1       1.00      1.00      1.00       162\n",
            "\n",
            "    accuracy                           1.00       324\n",
            "   macro avg       1.00      1.00      1.00       324\n",
            "weighted avg       1.00      1.00      1.00       324\n",
            "\n",
            "Metricas no Teste\n",
            "              precision    recall  f1-score   support\n",
            "\n",
            "           0       0.91      0.95      0.93        41\n",
            "           1       0.95      0.90      0.92        41\n",
            "\n",
            "    accuracy                           0.93        82\n",
            "   macro avg       0.93      0.93      0.93        82\n",
            "weighted avg       0.93      0.93      0.93        82\n",
            "\n",
            "Pior Random Forest\n",
            "('Criterio:', 'entropy', ' | ', 'N_estimator:', 25, ' | ', 'Max_depth:', 1, ' | ', 'min_samples_split:', 2, ' | ', 'min_samples_leaf:', 1)\n",
            "Metricas no Treinamento\n",
            "              precision    recall  f1-score   support\n",
            "\n",
            "           0       1.00      1.00      1.00       162\n",
            "           1       1.00      1.00      1.00       162\n",
            "\n",
            "    accuracy                           1.00       324\n",
            "   macro avg       1.00      1.00      1.00       324\n",
            "weighted avg       1.00      1.00      1.00       324\n",
            "\n",
            "Metricas no Teste\n",
            "              precision    recall  f1-score   support\n",
            "\n",
            "           0       0.75      0.95      0.84        41\n",
            "           1       0.93      0.68      0.79        41\n",
            "\n",
            "    accuracy                           0.82        82\n",
            "   macro avg       0.84      0.82      0.81        82\n",
            "weighted avg       0.84      0.82      0.81        82\n",
            "\n"
          ],
          "name": "stdout"
        }
      ]
    }
  ]
}